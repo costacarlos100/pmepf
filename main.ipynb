{
 "cells": [
  {
   "cell_type": "code",
   "execution_count": 11,
   "metadata": {},
   "outputs": [],
   "source": [
    "from selenium.webdriver.support.wait import WebDriverWait\n",
    "from selenium.webdriver.common.by import By\n",
    "from selenium.webdriver import Firefox\n",
    "from functools import partial\n",
    "from time import sleep\n",
    "import pandas as pd\n",
    "\n",
    "driver = Firefox()\n",
    "url = \"https://betha.cloud\"\n",
    "driver.get(url)\n",
    "\n",
    "wdw = WebDriverWait(driver, 10, poll_frequency=0.2)\n",
    "\n",
    "\n",
    "def esperabuttonxpath(xpath, webdriver):\n",
    "    objeto = webdriver.find_elements(By.XPATH, xpath)\n",
    "    return bool(objeto)\n",
    "\n",
    "\n",
    "def esperabuttoncss(css, webdriver):\n",
    "    objeto = webdriver.find_elements(By.CSS_SELECTOR, css)\n",
    "    return bool(objeto)\n",
    "\n",
    "def esperabuttonid(id, webdriver):\n",
    "    objeto = webdriver.find_elements(By.ID, id)\n",
    "    return bool(objeto)"
   ]
  },
  {
   "cell_type": "code",
   "execution_count": 12,
   "metadata": {},
   "outputs": [],
   "source": [
    "#NA PÁGINA DE LOGIN INSERE O LOGIN E SENHA E CLICA PARA ABRIR                        \n",
    "driver.find_element(By.ID, 'login:iUsuarios').send_keys('usuario')\n",
    "driver.find_element(By.ID, 'login:senha').send_keys('senha')\n",
    "driver.find_element(By.ID, 'login:btAcessar').click()"
   ]
  },
  {
   "cell_type": "code",
   "execution_count": 13,
   "metadata": {},
   "outputs": [],
   "source": [
    "#CLICA EM PREFEITURA MUNICIPAL DE PAULO DE FRONTIN \n",
    "wdw.until(partial(esperabuttoncss, \".flex-list > li:nth-child(3) > div:nth-child(1) > div:nth-child(2) > div:nth-child(2) > a:nth-child(1)\"))\n",
    "sleep(3)\n",
    "driver.find_element(By.CSS_SELECTOR, \".flex-list > li:nth-child(3) > div:nth-child(1) > div:nth-child(2) > div:nth-child(2) > a:nth-child(1)\").click()"
   ]
  },
  {
   "cell_type": "code",
   "execution_count": 14,
   "metadata": {},
   "outputs": [],
   "source": [
    "#CLICA EM COMPRAS\n",
    "wdw.until(partial(esperabuttonxpath, \"/html/body/div[3]/div/div/div/div[2]/ul/li/div/div/div[2]/div\"))\n",
    "sleep(3)\n",
    "driver.find_element(By.XPATH, \"/html/body/div[3]/div/div/div/div[2]/ul/li/div/div/div[2]/div\").click()"
   ]
  },
  {
   "cell_type": "code",
   "execution_count": 15,
   "metadata": {},
   "outputs": [],
   "source": [
    "#CLICA EM PREFEITURA MUNICIPAL DE ENGENHEIRO PAULO DE FRONTIN\n",
    "wdw.until(partial(esperabuttonid, \"hrefSelecaoEntidadeCtrlSelecionar-2\"))\n",
    "sleep(3)\n",
    "driver.find_element(By.ID, \"hrefSelecaoEntidadeCtrlSelecionar-2\").click()\n"
   ]
  },
  {
   "cell_type": "code",
   "execution_count": 16,
   "metadata": {},
   "outputs": [],
   "source": [
    "#CLICA EM EXECÍCIO 2024\n",
    "wdw.until(partial(esperabuttonid, \"hrefvmSelecionar-2024\"))\n",
    "sleep(3)\n",
    "driver.find_element(By.ID, \"hrefvmSelecionar-2024\").click()\n"
   ]
  },
  {
   "cell_type": "code",
   "execution_count": 17,
   "metadata": {},
   "outputs": [],
   "source": [
    "#FORNECEDORES\n",
    "wdw.until(partial(esperabuttonxpath, \"/html/body/div[3]/div/div/div[2]/div/div/ul/li[5]/div/div[2]/div/span\"))\n",
    "sleep(3)\n",
    "driver.find_element(By.XPATH, \"/html/body/div[3]/div/div/div[2]/div/div/ul/li[5]/div/div[2]/div/span\").click()"
   ]
  },
  {
   "cell_type": "code",
   "execution_count": 18,
   "metadata": {},
   "outputs": [],
   "source": [
    "#PROBLEMA DE ERRO COM TIME, CLICA NA SELEÇÃO DE QUANTIDADE DE ITENS NA TELA\n",
    "wdw.until(partial(esperabuttonxpath, \"/html/body/div[3]/div/div/div[2]/div/div[1]/ui-list-grid/div[3]/div[2]/div[3]/div/ui-pagination/div[1]/form/div/a\"))\n",
    "sleep(2)\n",
    "driver.find_element(By.XPATH, \"/html/body/div[3]/div/div/div[2]/div/div[1]/ui-list-grid/div[3]/div[2]/div[3]/div/ui-pagination/div[1]/form/div/a\").click()"
   ]
  },
  {
   "cell_type": "code",
   "execution_count": 19,
   "metadata": {},
   "outputs": [],
   "source": [
    "#SELECIONA 100\n",
    "wdw.until(partial(esperabuttonid, \"select2-result-label-13\"))\n",
    "sleep(2)\n",
    "driver.find_element(By.ID, \"select2-result-label-13\").click()"
   ]
  },
  {
   "cell_type": "code",
   "execution_count": 20,
   "metadata": {},
   "outputs": [
    {
     "name": "stdout",
     "output_type": "stream",
     "text": [
      "5\n"
     ]
    }
   ],
   "source": [
    "from openpyxl import Workbook\n",
    "wb = Workbook()\n",
    "ws = wb.active\n",
    "ws.title = \"Informações\"    \n",
    "i = 0\n",
    "\n",
    "info = [0,1,2,3,4,5]\n",
    "linha = 0\n",
    "\n",
    "while True:\n",
    "    sleep(2)\n",
    "    pagina = int(driver.find_element(By.XPATH, \"/html/body/div[3]/div/div/div[2]/div/div[1]/ui-list-grid/div[3]/div[2]/div[3]/div/ui-pagination/div[2]/div/button[6]\").text)\n",
    "    \n",
    "    print(pagina)\n",
    "    i = 0\n",
    "    if(pagina <= 70):\n",
    "        while i <= 99:\n",
    "            sleep(2)\n",
    "            a = i + 1    \n",
    "            try:\n",
    "                nomeEmpresa = driver.find_element(By.XPATH, f\"/html/body/div[3]/div/div/div[2]/div/div[1]/ui-list-grid/div[3]/div[2]/div[2]/div/table/tbody/tr[{a}]/td[1]/div\").text\n",
    "                tipoEmpresa = driver.find_element(By.XPATH, f\"/html/body/div[3]/div/div/div[2]/div/div[1]/ui-list-grid/div[3]/div[2]/div[2]/div/table/tbody/tr[{a}]/td[2]\").text\n",
    "                cnpjEmpresa = driver.find_element(By.XPATH, f\"/html/body/div[3]/div/div/div[2]/div/div[1]/ui-list-grid/div[3]/div[2]/div[2]/div/table/tbody/tr[{a}]/td[3]/a\").text\n",
    "                inclusaoEmpresa = driver.find_element(By.XPATH, f\"/html/body/div[3]/div/div/div[2]/div/div[1]/ui-list-grid/div[3]/div[2]/div[2]/div/table/tbody/tr[{a}]/td[4]\").text\n",
    "\n",
    "                #PEGAR O ID DO BOTÃO DE CLICAR\n",
    "                tr_element = driver.find_element(By.ID, f\"tr-{i}\")\n",
    "\n",
    "                # Find all td elements with the class 'fa-pencial' inside the tr element\n",
    "                td_elements = tr_element.find_elements(By.TAG_NAME, \"a\")\n",
    "\n",
    "                # Print the text of each td element\n",
    "                for td_element in td_elements:\n",
    "                    if(td_element.get_attribute(\"id\").find(\"hrefActionEditar\") == 0):\n",
    "                        nomeBotao = td_element.get_attribute(\"id\")\n",
    "\n",
    "            \n",
    "                #Clica no editar\n",
    "                driver.find_element(By.ID, nomeBotao).click()\n",
    "                \n",
    "                sleep(2)\n",
    "                wdw.until(partial(esperabuttoncss, \"contratos-input-email.ng-pristine > div:nth-child(2) > ul:nth-child(1)\"))\n",
    "                emails = driver.find_elements(By.CSS_SELECTOR, \"contratos-input-email.ng-pristine > div:nth-child(2) > ul:nth-child(1)\")\n",
    "                #print(f\"{nomeEmpresa} - {tipoEmpresa} - {cnpjEmpresa} - {inclusaoEmpresa} - {nomeBotao}\") \n",
    "                \n",
    "                countEmails = 0\n",
    "                for email in emails:\n",
    "                    countEmails += 1\n",
    "                    emailF = email.text\n",
    "                print(countEmails)\n",
    "                if(countEmails > 0):\n",
    "                    telefones = driver.find_elements(By.CSS_SELECTOR, \"contratos-input-telefone.ng-pristine > div:nth-child(2) > ul:nth-child(1)\")\n",
    "                    for tel in telefones:\n",
    "                        telefone = tel.text\n",
    "                        \n",
    "                    #print(f\"{nomeEmpresa} - {tipoEmpresa} - {cnpjEmpresa} - {inclusaoEmpresa} - {nomeBotao}\") \n",
    "                    info[0] = nomeEmpresa\n",
    "                    info[1] = tipoEmpresa\n",
    "                    info[2] = cnpjEmpresa\n",
    "                    info[3] = inclusaoEmpresa\n",
    "                    info[4] = emailF\n",
    "                    info[5] = telefone\n",
    "                    n2 = 1\n",
    "                    \n",
    "                    linha+=1\n",
    "\n",
    "                    while(n2 <= 6):\n",
    "                        ws.cell(row=linha, column=n2, value=info[n2-1])\n",
    "                        n2+=1\n",
    "                else:\n",
    "                    driver.find_element(By.ID, \"btnFornecedorCadControllerClose\").click()       \n",
    "                    pass\n",
    "                \n",
    "                driver.find_element(By.ID, \"btnFornecedorCadControllerClose\").click()\n",
    "            except:\n",
    "                pass\n",
    "            \n",
    "            i += 1\n",
    "            \n",
    "    wb.save('planilhas.xlsx')\n",
    "    sleep(2)\n",
    "    driver.find_element(By.XPATH, \"/html/body/div[3]/div/div/div[2]/div/div[1]/ui-list-grid/div[3]/div[2]/div[3]/div/ui-pagination/div[2]/div/button[7]\").click()"
   ]
  },
  {
   "cell_type": "code",
   "execution_count": null,
   "metadata": {},
   "outputs": [],
   "source": [
    "/html/body/div[3]/div/div/div[2]/div/div[1]/ui-list-grid/div[3]/div[2]/div[2]/div/table/tbody/tr[1]/td[1]\n",
    "/html/body/div[3]/div/div/div[2]/div/div[1]/ui-list-grid/div[3]/div[2]/div[2]/div/table/tbody/tr[2]/td[1]\n",
    "/html/body/div[3]/div/div/div[2]/div/div[1]/ui-list-grid/div[3]/div[2]/div[2]/div/table/tbody/tr[{a}]/td[1]/div"
   ]
  }
 ],
 "metadata": {
  "kernelspec": {
   "display_name": "venv",
   "language": "python",
   "name": "python3"
  },
  "language_info": {
   "codemirror_mode": {
    "name": "ipython",
    "version": 3
   },
   "file_extension": ".py",
   "mimetype": "text/x-python",
   "name": "python",
   "nbconvert_exporter": "python",
   "pygments_lexer": "ipython3",
   "version": "3.12.2"
  }
 },
 "nbformat": 4,
 "nbformat_minor": 2
}
